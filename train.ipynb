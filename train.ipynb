{
 "cells": [
  {
   "cell_type": "code",
   "execution_count": 1,
   "id": "7502fbbd-1b52-4128-af7f-59343d1d7706",
   "metadata": {},
   "outputs": [],
   "source": [
    "%load_ext autoreload\n",
    "%autoreload 2 "
   ]
  },
  {
   "cell_type": "markdown",
   "id": "73f61870-01a7-47c9-9490-c3c6362164d8",
   "metadata": {},
   "source": [
    "## Libraries"
   ]
  },
  {
   "cell_type": "code",
   "execution_count": 2,
   "id": "a1194805-1be6-496b-acdd-c6f95ac83cfd",
   "metadata": {},
   "outputs": [],
   "source": [
    "import os\n",
    "import torch\n",
    "import numpy as np\n",
    "from data import *\n",
    "from model import *\n",
    "from train import *\n",
    "from utils import * \n",
    "import matplotlib.pyplot as plt\n",
    "from torchvision import transforms\n",
    "from torch.utils.data import Dataset, DataLoader\n",
    "from torch.optim.lr_scheduler import StepLR, LambdaLR"
   ]
  },
  {
   "cell_type": "markdown",
   "id": "7778d5b2",
   "metadata": {},
   "source": [
    "## Getting a CUDA Device"
   ]
  },
  {
   "cell_type": "code",
   "execution_count": 3,
   "id": "76163150",
   "metadata": {},
   "outputs": [
    {
     "name": "stdout",
     "output_type": "stream",
     "text": [
      "Current device: cuda\n"
     ]
    }
   ],
   "source": [
    "device = get_device()\n",
    "print(f\"Current device: {device}\")"
   ]
  },
  {
   "cell_type": "markdown",
   "id": "872a49ee",
   "metadata": {},
   "source": [
    "## Training Dataset Specifications"
   ]
  },
  {
   "cell_type": "code",
   "execution_count": 4,
   "id": "6bcb29e3",
   "metadata": {},
   "outputs": [],
   "source": [
    "augment=True\n",
    "mode = 'Training'\n",
    "preprocess = True\n",
    "default_tranforms =  T.ToTensor()\n",
    "augment_transforms=get_augment_transforms()\n",
    "root_dir = os.path.join(os.getcwd(), 'dataset')\n",
    "dataset_mean_file = os.path.join(os.getcwd(), 'mean_and_std.txt')"
   ]
  },
  {
   "cell_type": "markdown",
   "id": "771da277-459a-478b-8e56-a1d7d9451ae5",
   "metadata": {},
   "source": [
    "##  Dataset Instance"
   ]
  },
  {
   "cell_type": "code",
   "execution_count": 5,
   "id": "298ec17c-1b50-4ddc-8ffc-fe0e90fa9679",
   "metadata": {},
   "outputs": [],
   "source": [
    "dataset = BrainTumorDataset(root_dir=root_dir, \n",
    "                            mode=mode,\n",
    "                            preprocess=preprocess,\n",
    "                            transforms=default_tranforms)"
   ]
  },
  {
   "cell_type": "markdown",
   "id": "3d21d7d0",
   "metadata": {},
   "source": [
    "## Class Distribution of the Data before Augmentation"
   ]
  },
  {
   "cell_type": "code",
   "execution_count": 6,
   "id": "a89155a0",
   "metadata": {},
   "outputs": [
    {
     "ename": "ValueError",
     "evalue": "object of too small depth for desired array",
     "output_type": "error",
     "traceback": [
      "\u001b[1;31m---------------------------------------------------------------------------\u001b[0m",
      "\u001b[1;31mValueError\u001b[0m                                Traceback (most recent call last)",
      "Input \u001b[1;32mIn [6]\u001b[0m, in \u001b[0;36m<cell line: 1>\u001b[1;34m()\u001b[0m\n\u001b[1;32m----> 1\u001b[0m \u001b[43mdataset\u001b[49m\u001b[38;5;241;43m.\u001b[39;49m\u001b[43mplot_data_distribution\u001b[49m\u001b[43m(\u001b[49m\u001b[43m)\u001b[49m\n",
      "File \u001b[1;32mD:\\Projects\\Brain Tumor Detection\\data.py:140\u001b[0m, in \u001b[0;36mBrainTumorDataset.plot_data_distribution\u001b[1;34m(self)\u001b[0m\n\u001b[0;32m    138\u001b[0m \u001b[38;5;28;01mdef\u001b[39;00m \u001b[38;5;21mplot_data_distribution\u001b[39m(\u001b[38;5;28mself\u001b[39m):\n\u001b[0;32m    139\u001b[0m     x \u001b[38;5;241m=\u001b[39m \u001b[38;5;28mself\u001b[39m\u001b[38;5;241m.\u001b[39mclasses\n\u001b[1;32m--> 140\u001b[0m     y \u001b[38;5;241m=\u001b[39m \u001b[43mnp\u001b[49m\u001b[38;5;241;43m.\u001b[39;49m\u001b[43mbincount\u001b[49m\u001b[43m(\u001b[49m\u001b[38;5;28;43mself\u001b[39;49m\u001b[38;5;241;43m.\u001b[39;49m\u001b[43mlabels\u001b[49m\u001b[43m)\u001b[49m\n\u001b[0;32m    141\u001b[0m     fig, ax \u001b[38;5;241m=\u001b[39m plt\u001b[38;5;241m.\u001b[39msubplots()\n\u001b[0;32m    142\u001b[0m     bars \u001b[38;5;241m=\u001b[39m ax\u001b[38;5;241m.\u001b[39mbarh(x, y)\n",
      "File \u001b[1;32m<__array_function__ internals>:5\u001b[0m, in \u001b[0;36mbincount\u001b[1;34m(*args, **kwargs)\u001b[0m\n",
      "\u001b[1;31mValueError\u001b[0m: object of too small depth for desired array"
     ]
    }
   ],
   "source": [
    "dataset.plot_data_distribution()"
   ]
  },
  {
   "cell_type": "code",
   "execution_count": null,
   "id": "2e2e872f",
   "metadata": {},
   "outputs": [],
   "source": [
    "f, axarr = plt.subplots(1,2)\n",
    "axarr[0].imshow(dataset[220][0].permute(1, -1, 0))\n",
    "axarr[1].imshow(dataset[10][0].permute(1, -1, 0))"
   ]
  },
  {
   "cell_type": "markdown",
   "id": "c4dde756",
   "metadata": {},
   "source": [
    "## Test Dataset Specification"
   ]
  },
  {
   "cell_type": "code",
   "execution_count": null,
   "id": "afc34aab",
   "metadata": {},
   "outputs": [],
   "source": [
    "test_mode='Testing'"
   ]
  },
  {
   "cell_type": "code",
   "execution_count": null,
   "id": "282d1306",
   "metadata": {},
   "outputs": [],
   "source": [
    "test_dataset = BrainTumorDataset(root_dir=root_dir, mode=test_mode,preprocess=preprocess,transforms=default_tranforms)"
   ]
  },
  {
   "cell_type": "markdown",
   "id": "a98c2dea",
   "metadata": {},
   "source": [
    "## Class Distribution of the Test Dataset "
   ]
  },
  {
   "cell_type": "code",
   "execution_count": null,
   "id": "7dfafcbe",
   "metadata": {},
   "outputs": [],
   "source": [
    "test_dataset.plot_data_distribution()"
   ]
  },
  {
   "cell_type": "markdown",
   "id": "cdcdccf1",
   "metadata": {},
   "source": [
    "## Split Specifications"
   ]
  },
  {
   "cell_type": "code",
   "execution_count": null,
   "id": "8aebb175",
   "metadata": {},
   "outputs": [],
   "source": [
    "num_samples = len(dataset)\n",
    "train_samples, val_samples = split_samples(num_samples=num_samples, ratio=0.60)\n",
    "test_samples = len(test_dataset)\n",
    "print(f\"num_samples: {num_samples}, \\ntrain_samples : {train_samples},\\nval_samples : {val_samples},\\ntest_samples : {test_samples}\")\n"
   ]
  },
  {
   "cell_type": "code",
   "execution_count": null,
   "id": "6999bc0c",
   "metadata": {},
   "outputs": [],
   "source": [
    "indecis = dataset.indecis().tolist()"
   ]
  },
  {
   "cell_type": "code",
   "execution_count": null,
   "id": "dc2edd28",
   "metadata": {},
   "outputs": [],
   "source": [
    "train_set= Subset(dataset, indecis[:train_samples], augment_transforms=augment_transforms)\n"
   ]
  },
  {
   "cell_type": "code",
   "execution_count": null,
   "id": "210f872e",
   "metadata": {},
   "outputs": [],
   "source": [
    "val_set= Subset(dataset, indecis[train_samples:])\n"
   ]
  },
  {
   "cell_type": "code",
   "execution_count": null,
   "id": "6c85bcb8",
   "metadata": {},
   "outputs": [],
   "source": [
    "train_loader = DataLoader(train_set, batch_size = 128, shuffle=True, num_workers=4, collate_fn=None,pin_memory=True)\n",
    "validation_loader = DataLoader(val_set, batch_size = 256, shuffle=True, num_workers=4, collate_fn=None,pin_memory=True)\n",
    "test_loader = DataLoader(test_dataset, batch_size = 256, shuffle=True, num_workers=4, collate_fn=None,pin_memory=True)"
   ]
  },
  {
   "cell_type": "markdown",
   "id": "84c7f3fe",
   "metadata": {},
   "source": [
    "## Calculating the Mean and Standard Deviation of the Data Subset"
   ]
  },
  {
   "cell_type": "code",
   "execution_count": null,
   "id": "bd3a3b58",
   "metadata": {},
   "outputs": [],
   "source": [
    "mean, std = get_mean_and_std(train_loader, train_samples, 256, dataset_mean_file, redo=False)"
   ]
  },
  {
   "cell_type": "code",
   "execution_count": null,
   "id": "fab603e8",
   "metadata": {},
   "outputs": [],
   "source": [
    "print(mean, std)"
   ]
  },
  {
   "cell_type": "markdown",
   "id": "d2bae939",
   "metadata": {},
   "source": [
    "## Set the Data Transforms to Apply Normalization"
   ]
  },
  {
   "cell_type": "code",
   "execution_count": null,
   "id": "f67f6407",
   "metadata": {},
   "outputs": [],
   "source": [
    "new_transforms = get_transforms(mean=mean,std=std)"
   ]
  },
  {
   "cell_type": "code",
   "execution_count": null,
   "id": "8dfbd9df",
   "metadata": {},
   "outputs": [],
   "source": [
    "dataset.set_transforms(new_transforms)\n",
    "test_dataset.set_transforms(new_transforms)"
   ]
  },
  {
   "cell_type": "markdown",
   "id": "373986ec",
   "metadata": {},
   "source": [
    "## Images After Normalization"
   ]
  },
  {
   "cell_type": "code",
   "execution_count": null,
   "id": "f8e85261",
   "metadata": {},
   "outputs": [],
   "source": [
    "f, axarr = plt.subplots(1,2)\n",
    "axarr[0].imshow(train_set[3][0].permute(1, 2, 0))\n",
    "axarr[1].imshow(test_dataset[3][0].permute(1, 2, 0))"
   ]
  },
  {
   "cell_type": "code",
   "execution_count": null,
   "id": "687a37d5",
   "metadata": {},
   "outputs": [],
   "source": [
    "def my_collate(batch):\n",
    "    imgs = [item[0] for item in batch]\n",
    "    targets = torch.LongTensor([item[1] for item in batch])\n",
    "    return (imgs, targets)"
   ]
  },
  {
   "cell_type": "markdown",
   "id": "81108b0c-1df4-458c-8896-1025dc1a09ba",
   "metadata": {},
   "source": [
    "## A DataLoader Instance"
   ]
  },
  {
   "cell_type": "code",
   "execution_count": null,
   "id": "d97c74fd-1961-45e3-b7d1-74a0edd83500",
   "metadata": {},
   "outputs": [],
   "source": [
    "# train_loader = DataLoader(train_set, batch_size = 512, shuffle=True, num_workers=4, collate_fn=None,pin_memory=True)\n",
    "# validation_loader = DataLoader(val_set, batch_size = 512, shuffle=True, num_workers=4, collate_fn=None,pin_memory=True)\n",
    "# test_loader = DataLoader(test_dataset, batch_size = 512, shuffle=True, num_workers=4, collate_fn=None,pin_memory=True)"
   ]
  },
  {
   "cell_type": "markdown",
   "id": "f54035ad-fd68-4788-9112-a3f1878feb31",
   "metadata": {},
   "source": [
    "## The specifications of the BrainTumorClassifer Model"
   ]
  },
  {
   "cell_type": "code",
   "execution_count": null,
   "id": "475aea3a-7b06-440e-b0dc-124fa0c0914c",
   "metadata": {},
   "outputs": [],
   "source": [
    "in_channels = 3\n",
    "num_classes = 4\n",
    "bias=False"
   ]
  },
  {
   "cell_type": "code",
   "execution_count": null,
   "id": "bb055a20-dd80-47a5-b9da-24e1d637679e",
   "metadata": {},
   "outputs": [],
   "source": [
    "model = BrainTumorClasssifer(in_channels=in_channels, num_classes=num_classes, bias=bias)"
   ]
  },
  {
   "cell_type": "markdown",
   "id": "8a8e05ba",
   "metadata": {},
   "source": [
    "## Training Specifications"
   ]
  },
  {
   "cell_type": "code",
   "execution_count": null,
   "id": "47b0e121-a687-4c3b-a181-ffa39b8a1d94",
   "metadata": {},
   "outputs": [],
   "source": [
    "learning_rate = 1e-3\n",
    "weight_decay = 1e-2\n",
    "momentum = 0.99\n",
    "epochs=45"
   ]
  },
  {
   "cell_type": "code",
   "execution_count": null,
   "id": "f74a8f60-71fe-4855-9b2f-82b738ad63f4",
   "metadata": {},
   "outputs": [],
   "source": [
    "# optimizer = torch.optim.Adam(model.parameters(), lr=learning_rate, weight_decay=weight_decay, amsgrad=True)\n",
    "optimizer = torch.optim.AdamW(model.parameters(), lr=learning_rate, weight_decay=weight_decay, amsgrad=True, betas=(0.9, 0.999))"
   ]
  },
  {
   "cell_type": "code",
   "execution_count": null,
   "id": "c152fb71",
   "metadata": {},
   "outputs": [],
   "source": [
    "lr_lambda = custom_lr_factor"
   ]
  },
  {
   "cell_type": "code",
   "execution_count": null,
   "id": "85a6d80a-3acc-4524-9536-b243e0f4d372",
   "metadata": {},
   "outputs": [],
   "source": [
    "scheduler = StepLR(optimizer, step_size=15, gamma=0.1)\n",
    "# scheduler = LambdaLR(optimizer, lr_lambda=lr_lambda)"
   ]
  },
  {
   "cell_type": "code",
   "execution_count": null,
   "id": "968850e5",
   "metadata": {},
   "outputs": [],
   "source": [
    "weights = dataset.class_weights()"
   ]
  },
  {
   "cell_type": "code",
   "execution_count": null,
   "id": "d86c48df-f72d-4d60-a9d0-562fa70e7bf0",
   "metadata": {},
   "outputs": [],
   "source": [
    "\n",
    "criterion = torch.nn.CrossEntropyLoss(weight=None)"
   ]
  },
  {
   "cell_type": "code",
   "execution_count": null,
   "id": "2a08c87b",
   "metadata": {},
   "outputs": [],
   "source": [
    "torch.backends.cudnn.benchmark = True"
   ]
  },
  {
   "cell_type": "code",
   "execution_count": null,
   "id": "f7602193-58c3-426a-b18a-79cd5227d65f",
   "metadata": {
    "tags": []
   },
   "outputs": [],
   "source": [
    "total_loss, epoch_times, accuracies_train, accuracies_validation = train(model, optimizer, train_loader, validation_loader, criterion, epochs,scheduler=scheduler, device=device)"
   ]
  },
  {
   "cell_type": "markdown",
   "id": "056d2691",
   "metadata": {},
   "source": [
    "## Accuracy & Loss Plots"
   ]
  },
  {
   "cell_type": "code",
   "execution_count": null,
   "id": "0dc5b5dc-7aab-46ad-a445-b3edca17145f",
   "metadata": {},
   "outputs": [],
   "source": [
    "from matplotlib.pyplot import figure\n",
    "figure(figsize=(10, 5), dpi=80)\n",
    "plt.plot(range(epochs), accuracies_train, 'bo-')\n",
    "plt.plot(range(epochs), accuracies_validation, 'ro-')\n",
    "plt.legend([\"Train Accuracy\", \"Validation Accuracy\"], loc =\"lower right\")\n",
    "plt.title('Training Accuracy VS Validation Accuracy')\n",
    "plt.xlabel(\"Epoch\")\n",
    "plt.ylabel(\"Accuracy %\")\n",
    "plt.show()"
   ]
  },
  {
   "cell_type": "code",
   "execution_count": null,
   "id": "356c2057",
   "metadata": {},
   "outputs": [],
   "source": [
    "from matplotlib.pyplot import figure\n",
    "figure(figsize=(10, 4), dpi=80)\n",
    "plt.plot(range(epochs), total_loss, 'bo-')\n",
    "plt.legend([\"Loss\"], loc =\"lower right\")\n",
    "plt.title('Total Loss')\n",
    "plt.xlabel(\"Epoch\")\n",
    "plt.ylabel(\"Loss \")\n",
    "plt.show()"
   ]
  },
  {
   "cell_type": "markdown",
   "id": "085c7e89",
   "metadata": {},
   "source": [
    "## Evaluating the Model on the Test Set"
   ]
  },
  {
   "cell_type": "code",
   "execution_count": null,
   "id": "e474b0a7",
   "metadata": {},
   "outputs": [],
   "source": [
    "from evaluate import *"
   ]
  },
  {
   "cell_type": "code",
   "execution_count": null,
   "id": "0470e623",
   "metadata": {},
   "outputs": [],
   "source": [
    "acc, loss = evaluate(model, test_loader, criterion, device=device)"
   ]
  },
  {
   "cell_type": "code",
   "execution_count": null,
   "id": "c4a75b43",
   "metadata": {},
   "outputs": [],
   "source": [
    "print(f\"Testing accuracy: {acc}\\nTesting loss: {loss}\")"
   ]
  },
  {
   "cell_type": "markdown",
   "id": "87f449c2",
   "metadata": {},
   "source": [
    "## Calculating and Plotting the Confusion Matrix"
   ]
  },
  {
   "cell_type": "code",
   "execution_count": null,
   "id": "f0bfde2a",
   "metadata": {},
   "outputs": [],
   "source": [
    "y_true, y_pred = predictions(model=model, data_loader=test_loader, device=device)"
   ]
  },
  {
   "cell_type": "code",
   "execution_count": null,
   "id": "e3f31190",
   "metadata": {},
   "outputs": [],
   "source": [
    "cf_matrix = calculate_confusion_matrix(y_true=y_true, y_pred=y_pred)"
   ]
  },
  {
   "cell_type": "code",
   "execution_count": null,
   "id": "4b596ad4",
   "metadata": {},
   "outputs": [],
   "source": [
    "plot_cf_matrix(cf_matrix, dataset.classes)"
   ]
  },
  {
   "cell_type": "markdown",
   "id": "94a3301c",
   "metadata": {},
   "source": [
    "## Plot Class Accuracies"
   ]
  },
  {
   "cell_type": "code",
   "execution_count": null,
   "id": "57c28848",
   "metadata": {},
   "outputs": [],
   "source": [
    "plot_per_class_accuracy(cf_matrix, dataset.classes)"
   ]
  },
  {
   "cell_type": "markdown",
   "id": "0e48403e",
   "metadata": {},
   "source": [
    "## Classification Report"
   ]
  },
  {
   "cell_type": "code",
   "execution_count": null,
   "id": "128aad22",
   "metadata": {},
   "outputs": [],
   "source": [
    "classification_report = get_classification_report(y_true=y_true,\n",
    "                                                  y_pred=y_pred,\n",
    "                                                  target_names=dataset.classes)"
   ]
  },
  {
   "cell_type": "code",
   "execution_count": null,
   "id": "3d2defab",
   "metadata": {},
   "outputs": [],
   "source": [
    "print(classification_report)"
   ]
  },
  {
   "cell_type": "code",
   "execution_count": null,
   "id": "8fd3d5c5",
   "metadata": {},
   "outputs": [],
   "source": [
    "save_model(model, 'model_94_acc', os.getcwd())"
   ]
  },
  {
   "cell_type": "code",
   "execution_count": null,
   "id": "47ff4d22",
   "metadata": {},
   "outputs": [],
   "source": []
  }
 ],
 "metadata": {
  "kernelspec": {
   "display_name": "Python 3 (ipykernel)",
   "language": "python",
   "name": "python3"
  },
  "language_info": {
   "codemirror_mode": {
    "name": "ipython",
    "version": 3
   },
   "file_extension": ".py",
   "mimetype": "text/x-python",
   "name": "python",
   "nbconvert_exporter": "python",
   "pygments_lexer": "ipython3",
   "version": "3.9.12"
  }
 },
 "nbformat": 4,
 "nbformat_minor": 5
}
